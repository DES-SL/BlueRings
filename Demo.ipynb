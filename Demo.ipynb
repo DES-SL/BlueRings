{
 "cells": [
  {
   "cell_type": "markdown",
   "metadata": {},
   "source": [
    "# Demo Foreground subtractor\n",
    "\n",
    "Example notebook for subtraction of lens light to reveal faint lensed source features."
   ]
  },
  {
   "cell_type": "code",
   "execution_count": 1,
   "metadata": {
    "collapsed": true
   },
   "outputs": [],
   "source": [
    "from StandAloneRingFinder import *"
   ]
  },
  {
   "cell_type": "code",
   "execution_count": 6,
   "metadata": {
    "collapsed": true
   },
   "outputs": [],
   "source": [
    "from astropy.io import fits as pyfits\n",
    "import pylab as plt\n",
    "%matplotlib inline\n",
    "import colorImage"
   ]
  },
  {
   "cell_type": "code",
   "execution_count": 7,
   "metadata": {
    "collapsed": false
   },
   "outputs": [
    {
     "name": "stdout",
     "output_type": "stream",
     "text": [
      "(13.0, 13.0)\n",
      "(16.0, 13.0)\n",
      "(16.0, 13.0)\n",
      "(16.0, 13.0)\n"
     ]
    }
   ],
   "source": [
    "pref=1\n",
    "ddir=\"example\"#Change to your data directory\n",
    "imgg=pyfits.open(\"%s/clip_%s_g.fits\"%(ddir,pref))[0].data.copy()#[a:-a,a:-a]\n",
    "imgr=pyfits.open(\"%s/clip_%s_r.fits\"%(ddir,pref))[0].data.copy()#[a:-a,a:-a]\n",
    "imgi=pyfits.open(\"%s/clip_%s_i.fits\"%(ddir,pref))[0].data.copy()#[a:-a,a:-a]\n",
    "imgz=pyfits.open(\"%s/clip_%s_z.fits\"%(ddir,pref))[0].data.copy()#[a:-a,a:-a]\n",
    "\n",
    "sigg=pyfits.open(\"%s/clip_%s_weight_g.fits\"%(ddir,pref))[0].data.copy()#[a:-a,a:-a]**-0.5\n",
    "sigr=pyfits.open(\"%s/clip_%s_weight_r.fits\"%(ddir,pref))[0].data.copy()#[a:-a,a:-a]**-0.5\n",
    "sigi=pyfits.open(\"%s/clip_%s_weight_i.fits\"%(ddir,pref))[0].data.copy()#[a:-a,a:-a]**-0.5\n",
    "sigz=pyfits.open(\"%s/clip_%s_weight_z.fits\"%(ddir,pref))[0].data.copy()#[a:-a,a:-a]**-0.5\n",
    "\n",
    "psfg=pyfits.open(\"%s/clip_%s_psf_g.fits\"%(ddir,pref))[0].data.copy()\n",
    "psfr=pyfits.open(\"%s/clip_%s_psf_r.fits\"%(ddir,pref))[0].data.copy()\n",
    "psfi=pyfits.open(\"%s/clip_%s_psf_i.fits\"%(ddir,pref))[0].data.copy()\n",
    "psfz=pyfits.open(\"%s/clip_%s_psf_z.fits\"%(ddir,pref))[0].data.copy()\n",
    "\n",
    "\n",
    "color = colorImage.ColorImage()\n",
    "colorimage = color.createModel(imgg,imgr,imgi)\n",
    "\n",
    "psfmode=\"dont\"\n",
    "RF=RingFinder(imgg,imgi,sigg,sigi,psfg,psfi,0.265,1e12,1e12,visualize=False,psfmode=psfmode)\n",
    "RFgz=RingFinder(imgg,imgz,sigg,sigi,psfg,psfz,0.265,1e12,1e12,visualize=False,psfmode=psfmode)\n",
    "RFrz=RingFinder(imgr,imgz,sigr,sigz,psfr,psfz,0.265,1e12,1e12,visualize=False,psfmode=psfmode)\n",
    "RFiz=RingFinder(imgi,imgz,sigi,sigz,psfi,psfz,0.265,1e12,1e12,visualize=False,psfmode=psfmode)"
   ]
  },
  {
   "cell_type": "code",
   "execution_count": 12,
   "metadata": {
    "collapsed": false
   },
   "outputs": [
    {
     "data": {
      "image/png": "[encoded data removed]",
      "text/plain": [
       "<matplotlib.figure.Figure at 0x10eadec50>"
      ]
     },
     "metadata": {},
     "output_type": "display_data"
    }
   ],
   "source": [
    "plt.figure(figsize=(15,9))\n",
    "ax=plt.subplot(1,1,1)\n",
    "size=colorimage.shape[0]\n",
    "\n",
    "#RF.Dshow[RF.fitmask]=numpy.nan\n",
    "plt.subplot(131)\n",
    "color.bMinusr = 0.8\n",
    "color.bMinusg = 0.4\n",
    "color.nonlin = 1.\n",
    "colored=color.createModel(imgg,imgr,imgi)\n",
    "plt.imshow(colored,interpolation=\"none\")\n",
    "ax.xaxis.set_visible(False)\n",
    "ax.yaxis.set_visible(False)\n",
    "plt.subplot(132)\n",
    "colorresid=color.colorize(RFgz.Dshow,RFrz.Dshow,RFiz.Dshow)\n",
    "d=0\n",
    "#plt.imshow(RF.Dshow,interpolation=\"none\")\n",
    "plt.imshow(colorresid,interpolation=\"none\")\n",
    "#plt.xlim([0,size-20])\n",
    "#plt.ylim([0,size-20])\n",
    "ax.xaxis.set_visible(False)\n",
    "ax.yaxis.set_visible(False)\n",
    "\n",
    "plt.subplot(133)\n",
    "plt.imshow(RF.Dshow,interpolation=\"none\")\n",
    "ax.xaxis.set_visible(False)\n",
    "ax.yaxis.set_visible(False)"
   ]
  },
  {
   "cell_type": "code",
   "execution_count": null,
   "metadata": {
    "collapsed": false
   },
   "outputs": [],
   "source": []
  },
  {
   "cell_type": "code",
   "execution_count": null,
   "metadata": {
    "collapsed": true
   },
   "outputs": [],
   "source": []
  }
 ],
 "metadata": {
  "kernelspec": {
   "display_name": "Python 2",
   "language": "python",
   "name": "python2"
  },
  "language_info": {
   "codemirror_mode": {
    "name": "ipython",
    "version": 2
   },
   "file_extension": ".py",
   "mimetype": "text/x-python",
   "name": "python",
   "nbconvert_exporter": "python",
   "pygments_lexer": "ipython2",
   "version": "2.7.5"
  }
 },
 "nbformat": 4,
 "nbformat_minor": 0
}
